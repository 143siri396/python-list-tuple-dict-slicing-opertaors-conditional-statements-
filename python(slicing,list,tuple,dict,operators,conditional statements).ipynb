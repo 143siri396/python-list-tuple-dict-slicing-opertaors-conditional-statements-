{
 "cells": [
  {
   "cell_type": "code",
   "execution_count": 1,
   "id": "cd247404",
   "metadata": {},
   "outputs": [
    {
     "name": "stdout",
     "output_type": "stream",
     "text": [
      "MALE\n",
      "MANE ear\n",
      "ta\n"
     ]
    }
   ],
   "source": [
    "#slicing a string\n",
    "l=\"machine,learning\"\n",
    "print(l[:2].upper()+l[8:10].upper())\n",
    "print(l[:2].upper()+l[5:7].upper()+\" \"+l[9:12])\n",
    "l1=[\"data\",9,3024.23,3+4j,[10,20,30]]\n",
    "print(l1[-5][-2:])"
   ]
  },
  {
   "cell_type": "code",
   "execution_count": 2,
   "id": "7d7dbee0",
   "metadata": {},
   "outputs": [
    {
     "name": "stdout",
     "output_type": "stream",
     "text": [
      "Modern Architecture\n",
      "GEO\n",
      "BIO\n",
      "CHE\n"
     ]
    }
   ],
   "source": [
    "x=[\n",
    "    ['Math',['Algebra','Calculus','Geometry']],\n",
    "    ['Science',['Physics','Chemistry','Biology']],\n",
    "    ['Technology',['Programming','Networking','Ai']],\n",
    "    ['History',['Ancient','Medieval','Modern']],\n",
    "    ['Art',['Painting','Sculpture','Architecture']]\n",
    "]\n",
    "print((x[3][1][-1])+\" \"+(x[4][1][-1]))\n",
    "\n",
    "print((x[0][1][-1][0:3]).upper())\n",
    "print((x[1][1][-1][0:3]).upper())\n",
    "print((x[1][1][1][0:3]).upper())"
   ]
  },
  {
   "cell_type": "code",
   "execution_count": 3,
   "id": "121fce87",
   "metadata": {},
   "outputs": [
    {
     "name": "stdout",
     "output_type": "stream",
     "text": [
      "('sun', 'mon', 'tue', 'wed', 'thu', 'fri', 'sat')\n"
     ]
    },
    {
     "data": {
      "text/plain": [
       "('sun', 'mon', 'tue')"
      ]
     },
     "execution_count": 3,
     "metadata": {},
     "output_type": "execute_result"
    }
   ],
   "source": [
    "#tuple\n",
    "weekdays=('sun','mon','tue','wed','thu','fri','sat')\n",
    "print(weekdays)\n",
    "weekdays[0:3]"
   ]
  },
  {
   "cell_type": "code",
   "execution_count": 4,
   "id": "8ab2dfb5",
   "metadata": {},
   "outputs": [
    {
     "data": {
      "text/plain": [
       "[18, 15, 25]"
      ]
     },
     "execution_count": 4,
     "metadata": {},
     "output_type": "execute_result"
    }
   ],
   "source": [
    "#list\n",
    "list1=[10,15,20]\n",
    "list1[0]=18\n",
    "list1[2]+=5\n",
    "list1"
   ]
  },
  {
   "cell_type": "code",
   "execution_count": 5,
   "id": "6e830a35",
   "metadata": {},
   "outputs": [
    {
     "name": "stdout",
     "output_type": "stream",
     "text": [
      "{'john': 15, 'jame': 14, 'johny': 16}\n",
      "15\n"
     ]
    }
   ],
   "source": [
    "#dictionary\n",
    "salaries={'john':15,'jame':14,'johny': 16}\n",
    "print(salaries)\n",
    "print(salaries['john'])"
   ]
  },
  {
   "cell_type": "code",
   "execution_count": 6,
   "id": "6004b231",
   "metadata": {},
   "outputs": [
    {
     "name": "stdout",
     "output_type": "stream",
     "text": [
      "addition:5+10 = 15\n",
      "-5\n",
      "50\n",
      "0.5\n",
      "5\n",
      "0\n",
      "9765625\n"
     ]
    }
   ],
   "source": [
    "#operators\n",
    "#rthematic operartors\n",
    "x=5\n",
    "y=10\n",
    "print(f\"addition:{x}+{y} = {x+y}\")\n",
    "print(x-y)\n",
    "print(x*y)\n",
    "print(x/y)\n",
    "print(x%y)\n",
    "print(x//y)\n",
    "print(x**y)"
   ]
  },
  {
   "cell_type": "code",
   "execution_count": 7,
   "id": "ca0fe294",
   "metadata": {},
   "outputs": [
    {
     "name": "stdout",
     "output_type": "stream",
     "text": [
      "10\n",
      "13\n",
      "12\n",
      "36\n",
      "0\n",
      "0\n",
      "0.0\n"
     ]
    }
   ],
   "source": [
    "#assignment operators\n",
    "x=10\n",
    "print(x)\n",
    "x+=3\n",
    "print(x)\n",
    "x-=1\n",
    "print(x)\n",
    "x*=3\n",
    "print(x)\n",
    "x%=4\n",
    "print(x)\n",
    "x//=2\n",
    "print(x)\n",
    "x/=4\n",
    "print(x)"
   ]
  },
  {
   "cell_type": "code",
   "execution_count": 8,
   "id": "988134ec",
   "metadata": {},
   "outputs": [
    {
     "name": "stdout",
     "output_type": "stream",
     "text": [
      "2\n"
     ]
    }
   ],
   "source": [
    "#and operators\n",
    "x=10\n",
    "y=3\n",
    "print(x&y)"
   ]
  },
  {
   "cell_type": "code",
   "execution_count": 9,
   "id": "20aacaeb",
   "metadata": {},
   "outputs": [
    {
     "name": "stdout",
     "output_type": "stream",
     "text": [
      "40\n"
     ]
    }
   ],
   "source": [
    "#lefttshift operator\n",
    "x=10\n",
    "x<<=2\n",
    "print(x)"
   ]
  },
  {
   "cell_type": "code",
   "execution_count": 10,
   "id": "c90fa3fa",
   "metadata": {},
   "outputs": [
    {
     "name": "stdout",
     "output_type": "stream",
     "text": [
      "2\n"
     ]
    }
   ],
   "source": [
    "#rightshift operator\n",
    "x=10\n",
    "x>>=2\n",
    "print(x)"
   ]
  },
  {
   "cell_type": "code",
   "execution_count": 11,
   "id": "7ec9e948",
   "metadata": {},
   "outputs": [
    {
     "data": {
      "text/plain": [
       "'0b1100100'"
      ]
     },
     "execution_count": 11,
     "metadata": {},
     "output_type": "execute_result"
    }
   ],
   "source": [
    "bin(20)\n",
    "bin(100)"
   ]
  },
  {
   "cell_type": "code",
   "execution_count": 12,
   "id": "814f5cf5",
   "metadata": {},
   "outputs": [
    {
     "name": "stdout",
     "output_type": "stream",
     "text": [
      "20\n"
     ]
    }
   ],
   "source": [
    "print(int('10100',2))"
   ]
  },
  {
   "cell_type": "code",
   "execution_count": 13,
   "id": "e4226946",
   "metadata": {},
   "outputs": [
    {
     "name": "stdout",
     "output_type": "stream",
     "text": [
      "22\n"
     ]
    }
   ],
   "source": [
    "print(int('10110',2))"
   ]
  },
  {
   "cell_type": "code",
   "execution_count": 14,
   "id": "70cef566",
   "metadata": {},
   "outputs": [
    {
     "name": "stdout",
     "output_type": "stream",
     "text": [
      "False\n",
      "True\n",
      "False\n",
      "True\n",
      "True\n",
      "False\n"
     ]
    }
   ],
   "source": [
    "#comparison operator\n",
    "x=10\n",
    "y=20\n",
    "print(x==y)\n",
    "print(x!=y)\n",
    "print(x>y)\n",
    "print(x<y)\n",
    "print(x<=y)\n",
    "print(x>=y)"
   ]
  },
  {
   "cell_type": "code",
   "execution_count": 15,
   "id": "afc4e49b",
   "metadata": {},
   "outputs": [
    {
     "name": "stdout",
     "output_type": "stream",
     "text": [
      "True\n",
      "True\n",
      "True\n"
     ]
    }
   ],
   "source": [
    "#logical operator\n",
    "a=5\n",
    "b=10\n",
    "print(a>2 and b<15)\n",
    "print(a>2 or b<15)\n",
    "print(not(a<2 or b>15))"
   ]
  },
  {
   "cell_type": "code",
   "execution_count": 16,
   "id": "c3af00bf",
   "metadata": {},
   "outputs": [
    {
     "name": "stdout",
     "output_type": "stream",
     "text": [
      "False\n",
      "True\n",
      "False\n",
      "True\n",
      "False\n",
      "False\n"
     ]
    }
   ],
   "source": [
    "#identity operator\n",
    "x=6\n",
    "z=x\n",
    "y=3\n",
    "r=y\n",
    "print(x is y)\n",
    "print(x is z)\n",
    "print(y is not r)\n",
    "print(x is not y)\n",
    "a=4\n",
    "b=5\n",
    "h=b\n",
    "print(a is b)\n",
    "print(b is not h)"
   ]
  },
  {
   "cell_type": "code",
   "execution_count": 17,
   "id": "4533272a",
   "metadata": {},
   "outputs": [
    {
     "name": "stdout",
     "output_type": "stream",
     "text": [
      "True\n",
      "True\n",
      "False\n"
     ]
    }
   ],
   "source": [
    "#membership operator\n",
    "a=[100,20,39,4,5,6,1,9]\n",
    "print(100 in a)\n",
    "print(2 not in a)\n",
    "print(39 not in a)"
   ]
  },
  {
   "cell_type": "code",
   "execution_count": 18,
   "id": "a21541e1",
   "metadata": {},
   "outputs": [
    {
     "name": "stdout",
     "output_type": "stream",
     "text": [
      "8\n",
      "14\n",
      "6\n",
      "-13\n",
      "96\n",
      "1\n"
     ]
    }
   ],
   "source": [
    "#bitwise operator\n",
    "a=12\n",
    "b=10\n",
    "print(a&b)\n",
    "print(a|b)\n",
    "print(a^b)\n",
    "print(~a)\n",
    "print(a<<3)\n",
    "print(a>>3)"
   ]
  },
  {
   "cell_type": "code",
   "execution_count": 19,
   "id": "46f4a191",
   "metadata": {},
   "outputs": [
    {
     "name": "stdout",
     "output_type": "stream",
     "text": [
      "4\n",
      "2\n",
      "2.0\n",
      "1.4142135623730951\n",
      "0.25\n",
      "3.141592653589793\n",
      "6.283185307179586\n",
      "2.718281828459045\n",
      "4\n",
      "4.0\n",
      "7.38905609893065\n",
      "3.0\n",
      "120\n",
      "20\n",
      "180\n"
     ]
    }
   ],
   "source": [
    "import math\n",
    "print(math.ceil(3.6))\n",
    "print(math.floor(2.6))\n",
    "print(math.sqrt(4))\n",
    "print(math.pow(2,1/2))\n",
    "print(math.pow(2,-2))\n",
    "print(math.pi)\n",
    "print(math.tau)\n",
    "print(math.e)\n",
    "print(math.trunc(4.1))\n",
    "print(math.fabs(-4))\n",
    "print(math.exp(2))\n",
    "#log(x,base)\n",
    "print(math.log(8,2))\n",
    "print(math.factorial(5))\n",
    "print(math.gcd(40,60))\n",
    "print(math.lcm(36,60))"
   ]
  },
  {
   "cell_type": "code",
   "execution_count": 20,
   "id": "a363e449",
   "metadata": {},
   "outputs": [
    {
     "name": "stdout",
     "output_type": "stream",
     "text": [
      "true\n"
     ]
    }
   ],
   "source": [
    "#conditional statements/if statements\n",
    "Tamatoes=10\n",
    "if Tamatoes<=15:\n",
    "  print(\"true\")"
   ]
  },
  {
   "cell_type": "code",
   "execution_count": 21,
   "id": "186d7529",
   "metadata": {},
   "outputs": [
    {
     "name": "stdout",
     "output_type": "stream",
     "text": [
      "data science\n"
     ]
    }
   ],
   "source": [
    "x=10\n",
    "if x%2==0:\n",
    "  print(\"data science\")"
   ]
  },
  {
   "cell_type": "code",
   "execution_count": 22,
   "id": "37d367e8",
   "metadata": {},
   "outputs": [
    {
     "name": "stdout",
     "output_type": "stream",
     "text": [
      "data science\n"
     ]
    }
   ],
   "source": [
    "x=11\n",
    "if x//2==5:\n",
    "  print(\"data science\")"
   ]
  },
  {
   "cell_type": "code",
   "execution_count": 26,
   "id": "b66b13a7",
   "metadata": {},
   "outputs": [
    {
     "name": "stdout",
     "output_type": "stream",
     "text": [
      "10\n",
      "data science\n"
     ]
    }
   ],
   "source": [
    "x=int(input())\n",
    "if not((x%2==0) and (x<10)):\n",
    "  print(\"data science\")"
   ]
  },
  {
   "cell_type": "code",
   "execution_count": 27,
   "id": "1ae2407d",
   "metadata": {},
   "outputs": [
    {
     "name": "stdout",
     "output_type": "stream",
     "text": [
      "x is   less than 5\n"
     ]
    }
   ],
   "source": [
    "#if -else statement\n",
    "x=3\n",
    "if x>5:\n",
    "  print(\"x is  greater than 5\")\n",
    "else:\n",
    "  print(\"x is   less than 5\")"
   ]
  },
  {
   "cell_type": "code",
   "execution_count": 28,
   "id": "09b88493",
   "metadata": {},
   "outputs": [
    {
     "name": "stdout",
     "output_type": "stream",
     "text": [
      "total no of kgs:70\n",
      "2ks of tomaatoes\n"
     ]
    }
   ],
   "source": [
    "tomato=int(input(\"total no of kgs:\"))\n",
    "if tomato<40:\n",
    "  print(\"3kgs of tomatoes\")\n",
    "elif tomato<=70:\n",
    "  print(\"2ks of tomaatoes\")\n",
    "else:\n",
    "  print(\"1 kg of tomatoes\")"
   ]
  },
  {
   "cell_type": "code",
   "execution_count": 29,
   "id": "63162b14",
   "metadata": {},
   "outputs": [
    {
     "name": "stdout",
     "output_type": "stream",
     "text": [
      "it is present\n"
     ]
    }
   ],
   "source": [
    "x=\"science\"\n",
    "if \"cien\" in x:\n",
    "  print(\"it is present\")\n",
    "else:\n",
    "  print(\"it is not present\")"
   ]
  },
  {
   "cell_type": "code",
   "execution_count": 30,
   "id": "0fc73cb3",
   "metadata": {},
   "outputs": [
    {
     "name": "stdout",
     "output_type": "stream",
     "text": [
      "enter your age:35\n",
      "allowed\n"
     ]
    }
   ],
   "source": [
    "age=int(input(\"enter your age:\"))\n",
    "permission=True\n",
    "if age>=20:\n",
    "  if permission:\n",
    "    print(\"allowed\")\n",
    "  else:\n",
    "    print(\"not allowed\")\n",
    "else:\n",
    "  if age>=10:\n",
    "    print(\"you are allowed with parents\")\n",
    "  else:\n",
    "    print(\"you are not allowed\")"
   ]
  },
  {
   "cell_type": "code",
   "execution_count": 31,
   "id": "513c62a6",
   "metadata": {},
   "outputs": [
    {
     "name": "stdout",
     "output_type": "stream",
     "text": [
      "enter your marks:95\n",
      "grade a+\n"
     ]
    }
   ],
   "source": [
    "marks=int(input(\"enter your marks:\"))\n",
    "if marks<30:\n",
    "  print(\"fail\")\n",
    "elif marks>35 and marks<=50:\n",
    "  print(\"grade c\")\n",
    "elif marks>55 and marks<70:\n",
    "  print(\"grade b\")\n",
    "elif marks>75 and marks<90:\n",
    "  print(\"grade a\")\n",
    "else:\n",
    "  print(\"grade a+\")"
   ]
  }
 ],
 "metadata": {
  "kernelspec": {
   "display_name": "Python 3 (ipykernel)",
   "language": "python",
   "name": "python3"
  },
  "language_info": {
   "codemirror_mode": {
    "name": "ipython",
    "version": 3
   },
   "file_extension": ".py",
   "mimetype": "text/x-python",
   "name": "python",
   "nbconvert_exporter": "python",
   "pygments_lexer": "ipython3",
   "version": "3.11.5"
  }
 },
 "nbformat": 4,
 "nbformat_minor": 5
}
